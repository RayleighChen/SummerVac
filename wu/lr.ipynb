{
 "cells": [
  {
   "cell_type": "code",
   "execution_count": 224,
   "metadata": {
    "collapsed": true
   },
   "outputs": [],
   "source": [
    "import numpy as np\n",
    "import pandas as pd\n",
    "from sklearn.linear_model import LogisticRegression"
   ]
  },
  {
   "cell_type": "code",
   "execution_count": 225,
   "metadata": {
    "collapsed": true
   },
   "outputs": [],
   "source": [
    "def rmse(act, pred):\n",
    "    return np.sqrt(((act-pred) ** 2).mean())"
   ]
  },
  {
   "cell_type": "code",
   "execution_count": 226,
   "metadata": {
    "collapsed": true
   },
   "outputs": [],
   "source": [
    "train = pd.read_csv('./regression_train.csv')\n",
    "test = pd.read_csv('./regression_test.csv')"
   ]
  },
  {
   "cell_type": "code",
   "execution_count": 227,
   "metadata": {},
   "outputs": [
    {
     "data": {
      "text/html": [
       "<div>\n",
       "<style>\n",
       "    .dataframe thead tr:only-child th {\n",
       "        text-align: right;\n",
       "    }\n",
       "\n",
       "    .dataframe thead th {\n",
       "        text-align: left;\n",
       "    }\n",
       "\n",
       "    .dataframe tbody tr th {\n",
       "        vertical-align: top;\n",
       "    }\n",
       "</style>\n",
       "<table border=\"1\" class=\"dataframe\">\n",
       "  <thead>\n",
       "    <tr style=\"text-align: right;\">\n",
       "      <th></th>\n",
       "      <th>y</th>\n",
       "      <th>1</th>\n",
       "      <th>2</th>\n",
       "      <th>3</th>\n",
       "      <th>4</th>\n",
       "      <th>5</th>\n",
       "      <th>6</th>\n",
       "      <th>7</th>\n",
       "      <th>8</th>\n",
       "      <th>9</th>\n",
       "      <th>10</th>\n",
       "      <th>11</th>\n",
       "      <th>12</th>\n",
       "    </tr>\n",
       "  </thead>\n",
       "  <tbody>\n",
       "    <tr>\n",
       "      <th>0</th>\n",
       "      <td>90</td>\n",
       "      <td>6</td>\n",
       "      <td>2</td>\n",
       "      <td>1036</td>\n",
       "      <td>103</td>\n",
       "      <td>114</td>\n",
       "      <td>1.00</td>\n",
       "      <td>1.00</td>\n",
       "      <td>172076</td>\n",
       "      <td>355965</td>\n",
       "      <td>2.0</td>\n",
       "      <td>6527</td>\n",
       "      <td>1851864</td>\n",
       "    </tr>\n",
       "    <tr>\n",
       "      <th>1</th>\n",
       "      <td>88</td>\n",
       "      <td>1</td>\n",
       "      <td>0</td>\n",
       "      <td>2165</td>\n",
       "      <td>205</td>\n",
       "      <td>101</td>\n",
       "      <td>0.40</td>\n",
       "      <td>1.20</td>\n",
       "      <td>43107</td>\n",
       "      <td>44139</td>\n",
       "      <td>3.0</td>\n",
       "      <td>130</td>\n",
       "      <td>1131931</td>\n",
       "    </tr>\n",
       "    <tr>\n",
       "      <th>2</th>\n",
       "      <td>85</td>\n",
       "      <td>62</td>\n",
       "      <td>77</td>\n",
       "      <td>3806</td>\n",
       "      <td>258</td>\n",
       "      <td>166</td>\n",
       "      <td>1.40</td>\n",
       "      <td>1.40</td>\n",
       "      <td>492142</td>\n",
       "      <td>268706</td>\n",
       "      <td>5.2</td>\n",
       "      <td>256</td>\n",
       "      <td>1314590</td>\n",
       "    </tr>\n",
       "    <tr>\n",
       "      <th>3</th>\n",
       "      <td>81</td>\n",
       "      <td>5</td>\n",
       "      <td>0</td>\n",
       "      <td>4721</td>\n",
       "      <td>256</td>\n",
       "      <td>177</td>\n",
       "      <td>0.99</td>\n",
       "      <td>2.58</td>\n",
       "      <td>524787</td>\n",
       "      <td>174964</td>\n",
       "      <td>1.0</td>\n",
       "      <td>233</td>\n",
       "      <td>972606</td>\n",
       "    </tr>\n",
       "    <tr>\n",
       "      <th>4</th>\n",
       "      <td>79</td>\n",
       "      <td>42</td>\n",
       "      <td>55</td>\n",
       "      <td>3949</td>\n",
       "      <td>249</td>\n",
       "      <td>244</td>\n",
       "      <td>2.60</td>\n",
       "      <td>4.60</td>\n",
       "      <td>197289</td>\n",
       "      <td>529200</td>\n",
       "      <td>3.4</td>\n",
       "      <td>331</td>\n",
       "      <td>1013805</td>\n",
       "    </tr>\n",
       "  </tbody>\n",
       "</table>\n",
       "</div>"
      ],
      "text/plain": [
       "    y   1   2     3    4    5     6     7       8       9   10    11       12\n",
       "0  90   6   2  1036  103  114  1.00  1.00  172076  355965  2.0  6527  1851864\n",
       "1  88   1   0  2165  205  101  0.40  1.20   43107   44139  3.0   130  1131931\n",
       "2  85  62  77  3806  258  166  1.40  1.40  492142  268706  5.2   256  1314590\n",
       "3  81   5   0  4721  256  177  0.99  2.58  524787  174964  1.0   233   972606\n",
       "4  79  42  55  3949  249  244  2.60  4.60  197289  529200  3.4   331  1013805"
      ]
     },
     "execution_count": 227,
     "metadata": {},
     "output_type": "execute_result"
    }
   ],
   "source": [
    "train.head()"
   ]
  },
  {
   "cell_type": "code",
   "execution_count": 228,
   "metadata": {},
   "outputs": [
    {
     "name": "stdout",
     "output_type": "stream",
     "text": [
      "<class 'pandas.core.frame.DataFrame'>\n",
      "<class 'pandas.core.series.Series'>\n"
     ]
    }
   ],
   "source": [
    "print(type(train.iloc[:, 1:]))\n",
    "print(type(train.iloc[:, 0]))"
   ]
  },
  {
   "cell_type": "code",
   "execution_count": 229,
   "metadata": {
    "collapsed": true
   },
   "outputs": [],
   "source": [
    "model = LogisticRegression(penalty='l1', C=0.08, random_state=1, max_iter=200).fit(train.iloc[:, 1:], train.iloc[:, 0])\n",
    "result = model.predict(test.iloc[:, 1:])"
   ]
  },
  {
   "cell_type": "code",
   "execution_count": 230,
   "metadata": {},
   "outputs": [
    {
     "name": "stdout",
     "output_type": "stream",
     "text": [
      "5.45819911521\n"
     ]
    }
   ],
   "source": [
    "print(rmse(test.iloc[:, 0].values, result))"
   ]
  },
  {
   "cell_type": "code",
   "execution_count": 231,
   "metadata": {},
   "outputs": [
    {
     "name": "stdout",
     "output_type": "stream",
     "text": [
      "[80 83 84 ..., 91 98 82]\n"
     ]
    }
   ],
   "source": [
    "print(result)"
   ]
  },
  {
   "cell_type": "code",
   "execution_count": 232,
   "metadata": {},
   "outputs": [],
   "source": [
    "# penalty='l1', C=0.5: 5.49093906269\n",
    "# penalty='l1', C=1  : 5.49835456334\n",
    "# C=0.1: 5.46550042007\n",
    "# C=0.08: 5.4605413578"
   ]
  },
  {
   "cell_type": "code",
   "execution_count": 234,
   "metadata": {},
   "outputs": [],
   "source": [
    "tmp = pd.DataFrame({'lr_testresult':result})\n",
    "tmp.to_csv('lr_testresult.csv', index=False)\n",
    "trainresult = model.predict(train.iloc[:, 1:])\n",
    "tmp = pd.DataFrame({'lr_trainresult':trainresult})\n",
    "tmp.to_csv('lr_trainresult.csv', index=False)"
   ]
  },
  {
   "cell_type": "code",
   "execution_count": null,
   "metadata": {
    "collapsed": true
   },
   "outputs": [],
   "source": []
  }
 ],
 "metadata": {
  "kernelspec": {
   "display_name": "Python 3",
   "language": "python",
   "name": "python3"
  },
  "language_info": {
   "codemirror_mode": {
    "name": "ipython",
    "version": 3
   },
   "file_extension": ".py",
   "mimetype": "text/x-python",
   "name": "python",
   "nbconvert_exporter": "python",
   "pygments_lexer": "ipython3",
   "version": "3.5.2"
  }
 },
 "nbformat": 4,
 "nbformat_minor": 1
}
