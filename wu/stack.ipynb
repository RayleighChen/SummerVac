{
 "cells": [
  {
   "cell_type": "code",
   "execution_count": 103,
   "metadata": {
    "collapsed": true
   },
   "outputs": [],
   "source": [
    "import numpy as np\n",
    "import pandas as pd\n",
    "from sklearn.linear_model import LinearRegression\n",
    "from sklearn.preprocessing import StandardScaler"
   ]
  },
  {
   "cell_type": "code",
   "execution_count": 104,
   "metadata": {
    "collapsed": true
   },
   "outputs": [],
   "source": [
    "def rmse(act, pred):\n",
    "    return np.sqrt(((act-pred) ** 2).mean())"
   ]
  },
  {
   "cell_type": "code",
   "execution_count": 105,
   "metadata": {
    "collapsed": true
   },
   "outputs": [],
   "source": [
    "train = pd.read_csv('./regression_train.csv')\n",
    "test = pd.read_csv('./regression_test.csv')\n",
    "lrtrain = pd.read_csv('./lr_trainresult.csv')\n",
    "lrtest = pd.read_csv('./lr_testresult.csv')\n",
    "caitrain = pd.read_csv('./tttttttttrain.csv')\n",
    "caitest = pd.read_csv('./tttttttttt.csv')\n",
    "train['13'] = lrtrain.values\n",
    "test['13'] = lrtest.values\n",
    "train['14'] = caitrain.values\n",
    "test['14'] = caitest.values"
   ]
  },
  {
   "cell_type": "code",
   "execution_count": 106,
   "metadata": {},
   "outputs": [
    {
     "data": {
      "text/html": [
       "<div>\n",
       "<style>\n",
       "    .dataframe thead tr:only-child th {\n",
       "        text-align: right;\n",
       "    }\n",
       "\n",
       "    .dataframe thead th {\n",
       "        text-align: left;\n",
       "    }\n",
       "\n",
       "    .dataframe tbody tr th {\n",
       "        vertical-align: top;\n",
       "    }\n",
       "</style>\n",
       "<table border=\"1\" class=\"dataframe\">\n",
       "  <thead>\n",
       "    <tr style=\"text-align: right;\">\n",
       "      <th></th>\n",
       "      <th>y</th>\n",
       "      <th>1</th>\n",
       "      <th>2</th>\n",
       "      <th>3</th>\n",
       "      <th>4</th>\n",
       "      <th>5</th>\n",
       "      <th>6</th>\n",
       "      <th>7</th>\n",
       "      <th>8</th>\n",
       "      <th>9</th>\n",
       "      <th>10</th>\n",
       "      <th>11</th>\n",
       "      <th>12</th>\n",
       "      <th>13</th>\n",
       "      <th>14</th>\n",
       "    </tr>\n",
       "  </thead>\n",
       "  <tbody>\n",
       "    <tr>\n",
       "      <th>0</th>\n",
       "      <td>90</td>\n",
       "      <td>6</td>\n",
       "      <td>2</td>\n",
       "      <td>1036</td>\n",
       "      <td>103</td>\n",
       "      <td>114</td>\n",
       "      <td>1.00</td>\n",
       "      <td>1.00</td>\n",
       "      <td>172076</td>\n",
       "      <td>355965</td>\n",
       "      <td>2.0</td>\n",
       "      <td>6527</td>\n",
       "      <td>1851864</td>\n",
       "      <td>90</td>\n",
       "      <td>91.673476</td>\n",
       "    </tr>\n",
       "    <tr>\n",
       "      <th>1</th>\n",
       "      <td>88</td>\n",
       "      <td>1</td>\n",
       "      <td>0</td>\n",
       "      <td>2165</td>\n",
       "      <td>205</td>\n",
       "      <td>101</td>\n",
       "      <td>0.40</td>\n",
       "      <td>1.20</td>\n",
       "      <td>43107</td>\n",
       "      <td>44139</td>\n",
       "      <td>3.0</td>\n",
       "      <td>130</td>\n",
       "      <td>1131931</td>\n",
       "      <td>91</td>\n",
       "      <td>90.754319</td>\n",
       "    </tr>\n",
       "    <tr>\n",
       "      <th>2</th>\n",
       "      <td>85</td>\n",
       "      <td>62</td>\n",
       "      <td>77</td>\n",
       "      <td>3806</td>\n",
       "      <td>258</td>\n",
       "      <td>166</td>\n",
       "      <td>1.40</td>\n",
       "      <td>1.40</td>\n",
       "      <td>492142</td>\n",
       "      <td>268706</td>\n",
       "      <td>5.2</td>\n",
       "      <td>256</td>\n",
       "      <td>1314590</td>\n",
       "      <td>83</td>\n",
       "      <td>82.319224</td>\n",
       "    </tr>\n",
       "    <tr>\n",
       "      <th>3</th>\n",
       "      <td>81</td>\n",
       "      <td>5</td>\n",
       "      <td>0</td>\n",
       "      <td>4721</td>\n",
       "      <td>256</td>\n",
       "      <td>177</td>\n",
       "      <td>0.99</td>\n",
       "      <td>2.58</td>\n",
       "      <td>524787</td>\n",
       "      <td>174964</td>\n",
       "      <td>1.0</td>\n",
       "      <td>233</td>\n",
       "      <td>972606</td>\n",
       "      <td>83</td>\n",
       "      <td>82.775383</td>\n",
       "    </tr>\n",
       "    <tr>\n",
       "      <th>4</th>\n",
       "      <td>79</td>\n",
       "      <td>42</td>\n",
       "      <td>55</td>\n",
       "      <td>3949</td>\n",
       "      <td>249</td>\n",
       "      <td>244</td>\n",
       "      <td>2.60</td>\n",
       "      <td>4.60</td>\n",
       "      <td>197289</td>\n",
       "      <td>529200</td>\n",
       "      <td>3.4</td>\n",
       "      <td>331</td>\n",
       "      <td>1013805</td>\n",
       "      <td>73</td>\n",
       "      <td>79.247167</td>\n",
       "    </tr>\n",
       "  </tbody>\n",
       "</table>\n",
       "</div>"
      ],
      "text/plain": [
       "    y   1   2     3    4    5     6     7       8       9   10    11       12  \\\n",
       "0  90   6   2  1036  103  114  1.00  1.00  172076  355965  2.0  6527  1851864   \n",
       "1  88   1   0  2165  205  101  0.40  1.20   43107   44139  3.0   130  1131931   \n",
       "2  85  62  77  3806  258  166  1.40  1.40  492142  268706  5.2   256  1314590   \n",
       "3  81   5   0  4721  256  177  0.99  2.58  524787  174964  1.0   233   972606   \n",
       "4  79  42  55  3949  249  244  2.60  4.60  197289  529200  3.4   331  1013805   \n",
       "\n",
       "   13         14  \n",
       "0  90  91.673476  \n",
       "1  91  90.754319  \n",
       "2  83  82.319224  \n",
       "3  83  82.775383  \n",
       "4  73  79.247167  "
      ]
     },
     "execution_count": 106,
     "metadata": {},
     "output_type": "execute_result"
    }
   ],
   "source": [
    "train.head()"
   ]
  },
  {
   "cell_type": "code",
   "execution_count": 107,
   "metadata": {},
   "outputs": [
    {
     "data": {
      "text/plain": [
       "\"\\ntrain.drop('12', axis=1, inplace=True)\\ntest.drop('12', axis=1, inplace=True)\\ntrain.head()\\n\""
      ]
     },
     "execution_count": 107,
     "metadata": {},
     "output_type": "execute_result"
    }
   ],
   "source": [
    "'''\n",
    "train.drop('12', axis=1, inplace=True)\n",
    "test.drop('12', axis=1, inplace=True)\n",
    "train.head()\n",
    "'''"
   ]
  },
  {
   "cell_type": "code",
   "execution_count": 108,
   "metadata": {},
   "outputs": [
    {
     "name": "stdout",
     "output_type": "stream",
     "text": [
      "3.33577057825\n",
      "[ 84.69009271  80.42153114  81.27666934 ...,  93.25374827  95.46488147\n",
      "  80.46041455]\n"
     ]
    }
   ],
   "source": [
    "model = LinearRegression().fit(train.iloc[:, 1:], train.iloc[:, 0])\n",
    "result = model.predict(test.iloc[:, 1:])\n",
    "#result = np.floor(result)\n",
    "print(rmse(test.iloc[:, 0], result))\n",
    "print(result)"
   ]
  },
  {
   "cell_type": "code",
   "execution_count": 109,
   "metadata": {
    "collapsed": true
   },
   "outputs": [],
   "source": [
    "# 3.47570697131\n",
    "# 3.46963542896\n",
    "# 3.33577057825"
   ]
  },
  {
   "cell_type": "code",
   "execution_count": 110,
   "metadata": {},
   "outputs": [
    {
     "data": {
      "text/plain": [
       "3.3445622605544982"
      ]
     },
     "execution_count": 110,
     "metadata": {},
     "output_type": "execute_result"
    }
   ],
   "source": [
    "cai = pd.read_csv('./tttttttttt.csv')\n",
    "rmse(test.iloc[:, 0], cai['cai'].values)"
   ]
  },
  {
   "cell_type": "code",
   "execution_count": null,
   "metadata": {
    "collapsed": true
   },
   "outputs": [],
   "source": []
  }
 ],
 "metadata": {
  "kernelspec": {
   "display_name": "Python 3",
   "language": "python",
   "name": "python3"
  },
  "language_info": {
   "codemirror_mode": {
    "name": "ipython",
    "version": 3
   },
   "file_extension": ".py",
   "mimetype": "text/x-python",
   "name": "python",
   "nbconvert_exporter": "python",
   "pygments_lexer": "ipython3",
   "version": "3.5.2"
  }
 },
 "nbformat": 4,
 "nbformat_minor": 2
}
