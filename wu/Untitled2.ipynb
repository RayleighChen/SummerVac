{
 "cells": [
  {
   "cell_type": "code",
   "execution_count": null,
   "metadata": {
    "collapsed": true
   },
   "outputs": [],
   "source": [
    "import numpy as np\n",
    "import pandas as pd\n",
    "\n",
    "#数据读取\n",
    "traindata=pd.read_excel(r'C:\\Users\\asus\\Desktop\\training .xlsx',names = ['y','x1','x2','x3','x4','x5','x6','x7','x8','x9','x10','x11','x12'])\n",
    "#数据剔除\n",
    "\n",
    "#traindata=traindata.ix[traindata.y>1,0:]\n",
    "\n",
    "y=traindata.iloc[0:,0]\n",
    "x=traindata.iloc[0:,1:]\n",
    "\n",
    "\n",
    "\n",
    "#尺度归一\n",
    "def normalization(x):\n",
    "    x = (x- np.min(x))/(np.max(x) - np.min(x));\n",
    "    return x;\n",
    "y_train=np.array(normalization(y))\n",
    "x_train=np.array(normalization(x))\n",
    "\n",
    "a=np.ones(len(x_train))\n",
    "xfinal=np.column_stack((x_train,a))\n",
    "\n",
    "#训练数据\n",
    "lr=0.0001\n",
    "w=np.array([0.1,0.1,0.1,0.1,0.1,0.1,0.1,0.1,0.1,0.1,0.1,0.1,0.1])\n",
    "#w=np.array([1,1,1,1,1,1,1,1,1,1,1,1,1])\n",
    "##批量梯度\n",
    "for i in range(10000):\n",
    "    w = w - 2*lr * (-xfinal).T.dot(y_train - xfinal.dot(w))\n",
    "print(w)\n",
    "#随机梯度下降\n",
    "#for i in range(len(x_train)):\n",
    "#    w=w-lr*2*(y_train[i]-(w[0]+w*x[i]))*(-x[i])\n",
    "#    \n",
    "#测试数据\n",
    "textdata=pd.read_excel(r'C:\\Users\\asus\\Desktop\\testing.xlsx',names = ['y','x1','x2','x3','x4','x5','x6','x7','x8','x9','x10','x11','x12'])\n",
    "yt=textdata.iloc[0:,0]\n",
    "xt=textdata.iloc[0:,1:]\n",
    "\n",
    "#y_text=np.array(normalization(yt))\n",
    "x_text=np.array(normalization(xt))\n",
    "a1=np.ones(len(x_text))\n",
    "xtt=np.column_stack((x_text,a1))\n",
    "ytt=(xtt.dot(w))*(np.max(yt) - np.min(yt))+np.min(yt)\n",
    "print ('RMSE',np.sqrt(np.sum((yt-ytt)**2/len(xtt))))\n"
   ]
  },
  {
   "cell_type": "code",
   "execution_count": null,
   "metadata": {
    "collapsed": true
   },
   "outputs": [],
   "source": []
  }
 ],
 "metadata": {
  "kernelspec": {
   "display_name": "Python 3",
   "language": "python",
   "name": "python3"
  }
 },
 "nbformat": 4,
 "nbformat_minor": 2
}
