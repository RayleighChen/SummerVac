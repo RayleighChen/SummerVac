{
 "cells": [
  {
   "cell_type": "code",
   "execution_count": 6,
   "metadata": {},
   "outputs": [],
   "source": [
    "import numpy as np\n",
    "import pandas as pd\n",
    "from sklearn.linear_model import LinearRegression\n",
    "\n",
    "def rmse(act, pred):\n",
    "    return np.sqrt(((act - pred) ** 2).mean())"
   ]
  },
  {
   "cell_type": "code",
   "execution_count": 7,
   "metadata": {},
   "outputs": [
    {
     "data": {
      "text/html": [
       "<div>\n",
       "<table border=\"1\" class=\"dataframe\">\n",
       "  <thead>\n",
       "    <tr style=\"text-align: right;\">\n",
       "      <th></th>\n",
       "      <th>City</th>\n",
       "      <th>Number of weekly riders</th>\n",
       "      <th>Price per week</th>\n",
       "      <th>Population of city</th>\n",
       "      <th>Monthly income of riders</th>\n",
       "      <th>Average parking rates per month</th>\n",
       "    </tr>\n",
       "  </thead>\n",
       "  <tbody>\n",
       "    <tr>\n",
       "      <th>0</th>\n",
       "      <td>1</td>\n",
       "      <td>192000</td>\n",
       "      <td>15</td>\n",
       "      <td>1800000</td>\n",
       "      <td>5800</td>\n",
       "      <td>50</td>\n",
       "    </tr>\n",
       "    <tr>\n",
       "      <th>1</th>\n",
       "      <td>2</td>\n",
       "      <td>190400</td>\n",
       "      <td>15</td>\n",
       "      <td>1790000</td>\n",
       "      <td>6200</td>\n",
       "      <td>50</td>\n",
       "    </tr>\n",
       "    <tr>\n",
       "      <th>2</th>\n",
       "      <td>3</td>\n",
       "      <td>191200</td>\n",
       "      <td>15</td>\n",
       "      <td>1780000</td>\n",
       "      <td>6400</td>\n",
       "      <td>60</td>\n",
       "    </tr>\n",
       "    <tr>\n",
       "      <th>3</th>\n",
       "      <td>4</td>\n",
       "      <td>177600</td>\n",
       "      <td>25</td>\n",
       "      <td>1778000</td>\n",
       "      <td>6500</td>\n",
       "      <td>60</td>\n",
       "    </tr>\n",
       "    <tr>\n",
       "      <th>4</th>\n",
       "      <td>5</td>\n",
       "      <td>176800</td>\n",
       "      <td>25</td>\n",
       "      <td>1750000</td>\n",
       "      <td>6550</td>\n",
       "      <td>60</td>\n",
       "    </tr>\n",
       "  </tbody>\n",
       "</table>\n",
       "</div>"
      ],
      "text/plain": [
       "   City  Number of weekly riders  Price per week  Population of city  \\\n",
       "0     1                   192000              15             1800000   \n",
       "1     2                   190400              15             1790000   \n",
       "2     3                   191200              15             1780000   \n",
       "3     4                   177600              25             1778000   \n",
       "4     5                   176800              25             1750000   \n",
       "\n",
       "   Monthly income of riders  Average parking rates per month  \n",
       "0                      5800                               50  \n",
       "1                      6200                               50  \n",
       "2                      6400                               60  \n",
       "3                      6500                               60  \n",
       "4                      6550                               60  "
      ]
     },
     "execution_count": 7,
     "metadata": {},
     "output_type": "execute_result"
    }
   ],
   "source": [
    "train = pd.read_csv('~/tensorflow_python3/July/day3/train.csv')\n",
    "test = pd.read_csv('~/tensorflow_python3/July/day3/test.csv')\n",
    "train.head()"
   ]
  },
  {
   "cell_type": "code",
   "execution_count": 8,
   "metadata": {
    "collapsed": true
   },
   "outputs": [],
   "source": [
    "# 画图发现有个一数据比较异常，去掉\n",
    "train.drop(17, inplace=True)\n",
    "\n",
    "# 其实还构造了一些特征，但是发现效果反而更差"
   ]
  },
  {
   "cell_type": "code",
   "execution_count": 9,
   "metadata": {},
   "outputs": [
    {
     "name": "stdout",
     "output_type": "stream",
     "text": [
      "result:  [ 148094.18615449  145160.9268216   142162.20347695  139512.0388438\n",
      "  141874.8389332   147656.85634884  154532.36985167]\n",
      "rmse: 11119.280825\n"
     ]
    }
   ],
   "source": [
    "model = LinearRegression().fit(train.iloc[:, 2:], train.iloc[:, 1])\n",
    "result = model.predict(test.iloc[:, 2:])\n",
    "print('result: ', result)\n",
    "print('rmse: %f' % rmse(test.iloc[:, 1], result))"
   ]
  }
 ],
 "metadata": {
  "kernelspec": {
   "display_name": "Python 3",
   "language": "python",
   "name": "python3"
  },
  "language_info": {
   "codemirror_mode": {
    "name": "ipython",
    "version": 3
   },
   "file_extension": ".py",
   "mimetype": "text/x-python",
   "name": "python",
   "nbconvert_exporter": "python",
   "pygments_lexer": "ipython3",
   "version": "3.5.2"
  }
 },
 "nbformat": 4,
 "nbformat_minor": 2
}
