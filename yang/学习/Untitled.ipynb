{
 "cells": [
  {
   "cell_type": "code",
   "execution_count": 1,
   "metadata": {},
   "outputs": [
    {
     "name": "stdout",
     "output_type": "stream",
     "text": [
      "8\n",
      "125\n"
     ]
    }
   ],
   "source": [
    "import theano\n",
    "#例子1\n",
    "#数值：iscalar(int类型的变量)、fscalar(float类型的变量)\n",
    "# 一维向量：ivector(int 类型的向量)、fvector(float类型的向量)、\n",
    "\n",
    "#二维矩阵：fmatrix(float类型矩阵)、imatrix（int类型的矩阵）\n",
    "\n",
    "#三维float类型矩阵：ftensor3  \n",
    "\n",
    "#四维float类型矩阵：ftensor4\n",
    "#定义一个int类型的数值\n",
    "x=theano.tensor.iscalar('x')\n",
    "#定义y^3\n",
    "y=theano.tensor.pow(x,3)\n",
    "#定义x为输入，y为输出\n",
    "f=theano.function([x],y)\n",
    "print(f(2))\n",
    "print(f(5))\n"
   ]
  },
  {
   "cell_type": "code",
   "execution_count": 2,
   "metadata": {},
   "outputs": [
    {
     "name": "stdout",
     "output_type": "stream",
     "text": [
      "0.952574133873\n"
     ]
    }
   ],
   "source": [
    "#例子2:函数示例\n",
    "import theano\n",
    "x=theano.tensor.fscalar('x')\n",
    "y=1/(1+theano.tensor.exp(-x))\n",
    "f=theano.function([x],y)\n",
    "print f(3)\n"
   ]
  },
  {
   "cell_type": "code",
   "execution_count": 4,
   "metadata": {},
   "outputs": [
    {
     "name": "stdout",
     "output_type": "stream",
     "text": [
      "[array(5.0, dtype=float32), array(6.0, dtype=float32)]\n"
     ]
    }
   ],
   "source": [
    "#coding=utf-8\n",
    "#例子3:function使用示例(既有因变量又有自变量)\n",
    "import theano\n",
    "#定义2个自变量fscalar后面加s\n",
    "x, y =theano.tensor.fscalars('x', 'y')\n",
    "z1=x+y\n",
    "z2=x*y\n",
    "f=theano.function([x,y],[z1,z2])\n",
    "print f(2,3)"
   ]
  },
  {
   "cell_type": "code",
   "execution_count": 5,
   "metadata": {},
   "outputs": [
    {
     "name": "stdout",
     "output_type": "stream",
     "text": [
      "0.104993581772\n",
      "0.0176627058536\n"
     ]
    }
   ],
   "source": [
    "#例4-1用theano.grad()求偏导数\n",
    "#coding=utf-8\n",
    "import theano\n",
    "x=theano.tensor.fscalar('x')\n",
    "y=1/(1+theano.tensor.exp(-x))\n",
    "dx=theano.grad(y,x)\n",
    "f=theano.function([x],dx)\n",
    "print f(2)\n",
    "print f(4)\n"
   ]
  },
  {
   "cell_type": "code",
   "execution_count": 13,
   "metadata": {},
   "outputs": [
    {
     "name": "stdout",
     "output_type": "stream",
     "text": [
      "[[-0.07278118  1.32234253 -0.51439524 -1.27821494]\n",
      " [ 2.62634206  0.72806684  0.41380656 -0.50910207]\n",
      " [-0.25457649  0.40410296 -1.31388972 -0.15118738]]\n"
     ]
    }
   ],
   "source": [
    "#例子4-2:贡献变量\n",
    "#coding=utf-8\n",
    "import theano\n",
    "import numpy\n",
    "#随机生成一个矩阵\n",
    "A=numpy.random.randn(3,4);\n",
    "#从A创建共享变量x\n",
    "x=theano.shared(A)\n",
    "#通过get_value()、set_value()可以查看、设置共享变量的数值\n",
    "print x.get_value()\n",
    "#print x.set_value()出错\n"
   ]
  },
  {
   "cell_type": "code",
   "execution_count": 18,
   "metadata": {},
   "outputs": [
    {
     "name": "stdout",
     "output_type": "stream",
     "text": [
      "1\n",
      "4\n"
     ]
    }
   ],
   "source": [
    "#例子4-3:更新共享变量参数\n",
    " #coding=utf-8  \n",
    "import theano\n",
    "#定义一个共享变量w使其等于1\n",
    "w=theano.shared(1)\n",
    "x=theano.tensor.iscalar('x')\n",
    "#定义函数自变量为x，因变量为w，当函数执行完毕后，更新参数w=w+x\n",
    "f=theano.function([x],w,updates=[[w,w+x]])\n",
    "#函数输出为w\n",
    "print f(3)\n",
    "#输出w+x\n",
    "print w.get_value()\n"
   ]
  },
  {
   "cell_type": "code",
   "execution_count": null,
   "metadata": {
    "collapsed": true
   },
   "outputs": [],
   "source": []
  }
 ],
 "metadata": {
  "kernelspec": {
   "display_name": "Python 2",
   "language": "python",
   "name": "python2"
  },
  "language_info": {
   "codemirror_mode": {
    "name": "ipython",
    "version": 2
   },
   "file_extension": ".py",
   "mimetype": "text/x-python",
   "name": "python",
   "nbconvert_exporter": "python",
   "pygments_lexer": "ipython2",
   "version": "2.7.13"
  }
 },
 "nbformat": 4,
 "nbformat_minor": 2
}
